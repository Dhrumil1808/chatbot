{
 "cells": [
  {
   "cell_type": "markdown",
   "metadata": {},
   "source": [
    "# Demonstrate Seq2Seq Wrapper with Cornell Movie Dialog Corpus"
   ]
  },
  {
   "cell_type": "code",
   "execution_count": 153,
   "metadata": {},
   "outputs": [],
   "source": [
    "import tensorflow as tf\n",
    "import numpy as np\n",
    "\n",
    "# preprocessed data\n",
    "from datasets.cornell_corpus import data\n",
    "import data_utils"
   ]
  },
  {
   "cell_type": "code",
   "execution_count": 154,
   "metadata": {},
   "outputs": [
    {
     "data": {
      "text/plain": [
       "<module 'datasets.cornell_corpus.data' from '/Users/rashmisharma/Documents/GitHub/sqschatbot/practical_seq2seq-master/datasets/cornell_corpus/data.py'>"
      ]
     },
     "execution_count": 154,
     "metadata": {},
     "output_type": "execute_result"
    }
   ],
   "source": [
    "import importlib\n",
    "importlib.reload(data)\n",
    "\n"
   ]
  },
  {
   "cell_type": "code",
   "execution_count": 155,
   "metadata": {},
   "outputs": [
    {
     "name": "stdout",
     "output_type": "stream",
     "text": [
      "[[  52   22  114   17  898    1    1   11 3984 7674   28  410   81 3714\n",
      "     1 1261  501   55   29    4    1  183    0    0    0]\n",
      " [  24    4    1   11    1   11 7953  411  155    0    0    0    0    0\n",
      "     0    0    0    0    0    0    0    0    0    0    0]\n",
      " [  36  573   12   44   49   42 1051   80   23  194  183    0    0    0\n",
      "     0    0    0    0    0    0    0    0    0    0    0]\n",
      " [1868   46  131   22   96  154 4250    6 1194    0    0    0    0    0\n",
      "     0    0    0    0    0    0    0    0    0    0    0]\n",
      " [   1  892    1   17   14   25  371    0    0    0    0    0    0    0\n",
      "     0    0    0    0    0    0    0    0    0    0    0]]\n",
      "25\n",
      "25\n"
     ]
    }
   ],
   "source": [
    "# load data from pickle and npy files\n",
    "metadata, idx_q, idx_a = data.load_data(PATH='datasets/cornell_corpus/')\n",
    "(trainX, trainY), (testX, testY), (validX, validY) = data_utils.split_dataset(idx_q, idx_a)\n",
    "\n",
    "print(trainX[0:5])\n",
    "\n",
    "print(trainX.shape[-1])\n",
    "print(trainY.shape[-1])"
   ]
  },
  {
   "cell_type": "code",
   "execution_count": 156,
   "metadata": {},
   "outputs": [],
   "source": [
    "# parameters \n",
    "xseq_len = trainX.shape[-1]\n",
    "yseq_len = trainY.shape[-1]\n",
    "batch_size = 16\n",
    "xvocab_size = len(metadata['idx2w'])  \n",
    "yvocab_size = xvocab_size\n",
    "emb_dim = 1024"
   ]
  },
  {
   "cell_type": "code",
   "execution_count": 157,
   "metadata": {},
   "outputs": [],
   "source": [
    "import seq2seq_wrapper"
   ]
  },
  {
   "cell_type": "code",
   "execution_count": 158,
   "metadata": {},
   "outputs": [
    {
     "name": "stdout",
     "output_type": "stream",
     "text": [
      "<log> Building Graph </log>"
     ]
    }
   ],
   "source": [
    "model = seq2seq_wrapper.Seq2Seq(xseq_len=xseq_len,\n",
    "                               yseq_len=yseq_len,\n",
    "                               xvocab_size=xvocab_size,\n",
    "                               yvocab_size=yvocab_size,\n",
    "                               ckpt_path='ckpt/cornell_corpus/',\n",
    "                               emb_dim=emb_dim,\n",
    "                               num_layers=3\n",
    "                               )"
   ]
  },
  {
   "cell_type": "code",
   "execution_count": null,
   "metadata": {},
   "outputs": [],
   "source": [
    "val_batch_gen = data_utils.rand_batch_gen(validX, validY, 32)\n",
    "test_batch_gen = data_utils.rand_batch_gen(testX, testY, 256)\n",
    "train_batch_gen = data_utils.rand_batch_gen(trainX, trainY, batch_size)"
   ]
  },
  {
   "cell_type": "code",
   "execution_count": null,
   "metadata": {},
   "outputs": [
    {
     "name": "stdout",
     "output_type": "stream",
     "text": [
      "\n",
      "<log> Training started </log>\n"
     ]
    }
   ],
   "source": [
    "sess = model.restore_last_session()\n",
    "sess = model.train(train_batch_gen, val_batch_gen)"
   ]
  },
  {
   "cell_type": "code",
   "execution_count": null,
   "metadata": {},
   "outputs": [],
   "source": [
    "input_ = test_batch_gen.__next__()[0]\n",
    "print(input_)\n",
    "print(input_[0])\n",
    "output = model.predict(sess, input_[0:25])\n",
    "print(output.shape)\n",
    "print(input_[0].shape)\n",
    "print(input_[0])"
   ]
  },
  {
   "cell_type": "code",
   "execution_count": null,
   "metadata": {},
   "outputs": [],
   "source": [
    "replies = []\n",
    "for ii, oi in zip(input_.T, output):\n",
    "    q = data_utils.decode(sequence=ii, lookup=metadata['idx2w'], separator=' ')\n",
    "    decoded = data_utils.decode(sequence=oi, lookup=metadata['idx2w'], separator=' ').split(' ')\n",
    "    if decoded.count('unk') == 0:\n",
    "        if decoded not in replies:\n",
    "            print('q : [{0}]; a : [{1}]'.format(q, ' '.join(decoded)))\n",
    "            replies.append(decoded)"
   ]
  },
  {
   "cell_type": "code",
   "execution_count": null,
   "metadata": {},
   "outputs": [],
   "source": [
    "print(input_[0])"
   ]
  },
  {
   "cell_type": "code",
   "execution_count": null,
   "metadata": {},
   "outputs": [],
   "source": [
    "def process_test_data(question):\n",
    "\n",
    "    metadata, idx_q, idx_a = data.load_data(PATH='datasets/cornell_corpus/')\n",
    "\n",
    "    w_2_id = dict(metadata['w2idx'])\n",
    "    id_2_w = metadata['idx2w']\n",
    "\n",
    "    sent = 'hello, what is your name?'\n",
    "   \n",
    "    questions = sent.lower()\n",
    "    qtokenized =  [w.strip() for w in questions.split(' ') if w]\n",
    "    input_array = np.array(data.pad_seq(qtokenized, w_2_id, 30))\n",
    "\n",
    "    print(input_array)\n"
   ]
  },
  {
   "cell_type": "code",
   "execution_count": 91,
   "metadata": {},
   "outputs": [
    {
     "name": "stdout",
     "output_type": "stream",
     "text": [
      "[ 1  8 14 23  1  0  0  0  0  0  0  0  0  0  0  0  0  0  0  0  0  0  0  0  0\n",
      "  0  0  0  0  0]\n"
     ]
    }
   ],
   "source": [
    "process_test_data(\"df\")"
   ]
  },
  {
   "cell_type": "code",
   "execution_count": 151,
   "metadata": {},
   "outputs": [],
   "source": [
    "import nltk as nltk\n",
    "import seq2seq_wrapper\n",
    "def chat(model,sess,train_seq_len,y_seq_len):\n",
    "    # load data from pickle and npy files\n",
    "    metadata, idx_q, idx_a = data.load_data(PATH='datasets/cornell_corpus/')\n",
    "\n",
    "    w_2_id = dict(metadata['w2idx'])\n",
    "    id_2_w = metadata['idx2w']\n",
    "\n",
    "    sent = 'hello, what is your name?'\n",
    "   \n",
    "    questions = sent.lower()\n",
    "    qtokenized =  [w.strip() for w in questions.split(' ') if w]\n",
    "    input_array = np.array([data.pad_seq(qtokenized, w_2_id, 25)])\n",
    "    input_array = input_array.T\n",
    "    #print(input_array)\n",
    "    emb_dim = 400\n",
    "\n",
    "    batch_size = 16\n",
    "    xvocab_size = len(metadata['idx2w'])  \n",
    "    yvocab_size = xvocab_size\n",
    "    emb_dim = 1024\n",
    "    \n",
    "    #print(input_array)\n",
    "    \n",
    "    model = seq2seq_wrapper.Seq2Seq(xseq_len=train_seq_len,\n",
    "                               yseq_len=y_seq_len,\n",
    "                               xvocab_size=xvocab_size,\n",
    "                               yvocab_size=yvocab_size,\n",
    "                               ckpt_path='ckpt/cornell_corpus/',\n",
    "                               emb_dim=emb_dim,\n",
    "                               num_layers=3\n",
    "                               )\n",
    "    sess = model.restore_last_session()\n",
    "    \n",
    "    predict = model.predict(sess=sess, X=input_array)\n",
    "\n",
    "    print(predict)\n",
    "    response = [id_2_w[i] for i in predict[0]]\n",
    "    print(response)"
   ]
  },
  {
   "cell_type": "code",
   "execution_count": 152,
   "metadata": {},
   "outputs": [
    {
     "name": "stdout",
     "output_type": "stream",
     "text": [
      "[[ 1]\n",
      " [ 8]\n",
      " [14]\n",
      " [23]\n",
      " [ 1]\n",
      " [ 0]\n",
      " [ 0]\n",
      " [ 0]\n",
      " [ 0]\n",
      " [ 0]\n",
      " [ 0]\n",
      " [ 0]\n",
      " [ 0]\n",
      " [ 0]\n",
      " [ 0]\n",
      " [ 0]\n",
      " [ 0]\n",
      " [ 0]\n",
      " [ 0]\n",
      " [ 0]\n",
      " [ 0]\n",
      " [ 0]\n",
      " [ 0]\n",
      " [ 0]\n",
      " [ 0]]\n",
      "[[ 1]\n",
      " [ 8]\n",
      " [14]\n",
      " [23]\n",
      " [ 1]\n",
      " [ 0]\n",
      " [ 0]\n",
      " [ 0]\n",
      " [ 0]\n",
      " [ 0]\n",
      " [ 0]\n",
      " [ 0]\n",
      " [ 0]\n",
      " [ 0]\n",
      " [ 0]\n",
      " [ 0]\n",
      " [ 0]\n",
      " [ 0]\n",
      " [ 0]\n",
      " [ 0]\n",
      " [ 0]\n",
      " [ 0]\n",
      " [ 0]\n",
      " [ 0]\n",
      " [ 0]]\n",
      "<log> Building Graph "
     ]
    },
    {
     "name": "stderr",
     "output_type": "stream",
     "text": [
      "Exception ignored in: <bound method TF_Buffer.<lambda> of <tensorflow.python.pywrap_tensorflow.TF_Buffer; proxy of <Swig Object of type 'TF_Buffer *' at 0x133cd9ed0> >>\n",
      "Traceback (most recent call last):\n",
      "  File \"/Users/rashmisharma/anaconda2/envs/tensorflow1.0/lib/python3.5/site-packages/tensorflow/python/pywrap_tensorflow.py\", line 339, in <lambda>\n",
      "    __del__ = lambda self: None"
     ]
    },
    {
     "name": "stdout",
     "output_type": "stream",
     "text": [
      "</log>"
     ]
    },
    {
     "name": "stderr",
     "output_type": "stream",
     "text": [
      "\n",
      "KeyboardInterrupt\n"
     ]
    },
    {
     "ename": "FailedPreconditionError",
     "evalue": "Attempting to use uninitialized value decoder/embedding_rnn_seq2seq/embedding_rnn_decoder/rnn_decoder/output_projection_wrapper/biases\n\t [[Node: decoder/embedding_rnn_seq2seq/embedding_rnn_decoder/rnn_decoder/output_projection_wrapper/biases/read = Identity[T=DT_FLOAT, _class=[\"loc:@decoder/embedding_rnn_seq2seq/embedding_rnn_decoder/rnn_decoder/output_projection_wrapper/biases\"], _device=\"/job:localhost/replica:0/task:0/cpu:0\"](decoder/embedding_rnn_seq2seq/embedding_rnn_decoder/rnn_decoder/output_projection_wrapper/biases)]]\n\nCaused by op 'decoder/embedding_rnn_seq2seq/embedding_rnn_decoder/rnn_decoder/output_projection_wrapper/biases/read', defined at:\n  File \"/Users/rashmisharma/anaconda2/envs/tensorflow1.0/lib/python3.5/runpy.py\", line 193, in _run_module_as_main\n    \"__main__\", mod_spec)\n  File \"/Users/rashmisharma/anaconda2/envs/tensorflow1.0/lib/python3.5/runpy.py\", line 85, in _run_code\n    exec(code, run_globals)\n  File \"/Users/rashmisharma/anaconda2/envs/tensorflow1.0/lib/python3.5/site-packages/ipykernel_launcher.py\", line 16, in <module>\n    app.launch_new_instance()\n  File \"/Users/rashmisharma/anaconda2/envs/tensorflow1.0/lib/python3.5/site-packages/traitlets/config/application.py\", line 658, in launch_instance\n    app.start()\n  File \"/Users/rashmisharma/anaconda2/envs/tensorflow1.0/lib/python3.5/site-packages/ipykernel/kernelapp.py\", line 477, in start\n    ioloop.IOLoop.instance().start()\n  File \"/Users/rashmisharma/anaconda2/envs/tensorflow1.0/lib/python3.5/site-packages/zmq/eventloop/ioloop.py\", line 177, in start\n    super(ZMQIOLoop, self).start()\n  File \"/Users/rashmisharma/anaconda2/envs/tensorflow1.0/lib/python3.5/site-packages/tornado/ioloop.py\", line 888, in start\n    handler_func(fd_obj, events)\n  File \"/Users/rashmisharma/anaconda2/envs/tensorflow1.0/lib/python3.5/site-packages/tornado/stack_context.py\", line 277, in null_wrapper\n    return fn(*args, **kwargs)\n  File \"/Users/rashmisharma/anaconda2/envs/tensorflow1.0/lib/python3.5/site-packages/zmq/eventloop/zmqstream.py\", line 440, in _handle_events\n    self._handle_recv()\n  File \"/Users/rashmisharma/anaconda2/envs/tensorflow1.0/lib/python3.5/site-packages/zmq/eventloop/zmqstream.py\", line 472, in _handle_recv\n    self._run_callback(callback, msg)\n  File \"/Users/rashmisharma/anaconda2/envs/tensorflow1.0/lib/python3.5/site-packages/zmq/eventloop/zmqstream.py\", line 414, in _run_callback\n    callback(*args, **kwargs)\n  File \"/Users/rashmisharma/anaconda2/envs/tensorflow1.0/lib/python3.5/site-packages/tornado/stack_context.py\", line 277, in null_wrapper\n    return fn(*args, **kwargs)\n  File \"/Users/rashmisharma/anaconda2/envs/tensorflow1.0/lib/python3.5/site-packages/ipykernel/kernelbase.py\", line 283, in dispatcher\n    return self.dispatch_shell(stream, msg)\n  File \"/Users/rashmisharma/anaconda2/envs/tensorflow1.0/lib/python3.5/site-packages/ipykernel/kernelbase.py\", line 235, in dispatch_shell\n    handler(stream, idents, msg)\n  File \"/Users/rashmisharma/anaconda2/envs/tensorflow1.0/lib/python3.5/site-packages/ipykernel/kernelbase.py\", line 399, in execute_request\n    user_expressions, allow_stdin)\n  File \"/Users/rashmisharma/anaconda2/envs/tensorflow1.0/lib/python3.5/site-packages/ipykernel/ipkernel.py\", line 196, in do_execute\n    res = shell.run_cell(code, store_history=store_history, silent=silent)\n  File \"/Users/rashmisharma/anaconda2/envs/tensorflow1.0/lib/python3.5/site-packages/ipykernel/zmqshell.py\", line 533, in run_cell\n    return super(ZMQInteractiveShell, self).run_cell(*args, **kwargs)\n  File \"/Users/rashmisharma/anaconda2/envs/tensorflow1.0/lib/python3.5/site-packages/IPython/core/interactiveshell.py\", line 2728, in run_cell\n    interactivity=interactivity, compiler=compiler, result=result)\n  File \"/Users/rashmisharma/anaconda2/envs/tensorflow1.0/lib/python3.5/site-packages/IPython/core/interactiveshell.py\", line 2856, in run_ast_nodes\n    if self.run_code(code, result):\n  File \"/Users/rashmisharma/anaconda2/envs/tensorflow1.0/lib/python3.5/site-packages/IPython/core/interactiveshell.py\", line 2910, in run_code\n    exec(code_obj, self.user_global_ns, self.user_ns)\n  File \"<ipython-input-152-a2324e7e7c76>\", line 1, in <module>\n    chat(model,sess,25,25)\n  File \"<ipython-input-151-d680e2d2f3fe>\", line 32, in chat\n    num_layers=3\n  File \"/Users/rashmisharma/Documents/GitHub/sqschatbot/practical_seq2seq-master/seq2seq_wrapper.py\", line 79, in __init__\n    __graph__()\n  File \"/Users/rashmisharma/Documents/GitHub/sqschatbot/practical_seq2seq-master/seq2seq_wrapper.py\", line 58, in __graph__\n    xvocab_size, yvocab_size, emb_dim)\n  File \"/Users/rashmisharma/anaconda2/envs/tensorflow1.0/lib/python3.5/site-packages/tensorflow/contrib/legacy_seq2seq/python/ops/seq2seq.py\", line 374, in embedding_rnn_seq2seq\n  File \"/Users/rashmisharma/anaconda2/envs/tensorflow1.0/lib/python3.5/site-packages/tensorflow/contrib/legacy_seq2seq/python/ops/seq2seq.py\", line 295, in embedding_rnn_decoder\n  File \"/Users/rashmisharma/anaconda2/envs/tensorflow1.0/lib/python3.5/site-packages/tensorflow/contrib/legacy_seq2seq/python/ops/seq2seq.py\", line 150, in rnn_decoder\n  File \"/Users/rashmisharma/anaconda2/envs/tensorflow1.0/lib/python3.5/site-packages/tensorflow/contrib/rnn/python/ops/core_rnn_cell_impl.py\", line 429, in __call__\n  File \"/Users/rashmisharma/anaconda2/envs/tensorflow1.0/lib/python3.5/site-packages/tensorflow/contrib/rnn/python/ops/core_rnn_cell_impl.py\", line 759, in _linear\n  File \"/Users/rashmisharma/anaconda2/envs/tensorflow1.0/lib/python3.5/site-packages/tensorflow/python/ops/variable_scope.py\", line 988, in get_variable\n    device.  If not `None`, caches on another device.  Typical use is to\n  File \"/Users/rashmisharma/anaconda2/envs/tensorflow1.0/lib/python3.5/site-packages/tensorflow/python/ops/variable_scope.py\", line 890, in get_variable\n    full_name_list = []\n  File \"/Users/rashmisharma/anaconda2/envs/tensorflow1.0/lib/python3.5/site-packages/tensorflow/python/ops/variable_scope.py\", line 348, in get_variable\n    def _get_partitioned_variable(\n  File \"/Users/rashmisharma/anaconda2/envs/tensorflow1.0/lib/python3.5/site-packages/tensorflow/python/ops/variable_scope.py\", line 333, in _true_getter\n    if custom_getter is not None:\n  File \"/Users/rashmisharma/anaconda2/envs/tensorflow1.0/lib/python3.5/site-packages/tensorflow/python/ops/variable_scope.py\", line 684, in _get_single_variable\n    with ops.colocate_with(v.op):\n  File \"/Users/rashmisharma/anaconda2/envs/tensorflow1.0/lib/python3.5/site-packages/tensorflow/python/ops/variables.py\", line 226, in __init__\n    def __str__(self):\n  File \"/Users/rashmisharma/anaconda2/envs/tensorflow1.0/lib/python3.5/site-packages/tensorflow/python/ops/variables.py\", line 344, in _init_from_args\n  File \"/Users/rashmisharma/anaconda2/envs/tensorflow1.0/lib/python3.5/site-packages/tensorflow/python/ops/gen_array_ops.py\", line 1490, in identity\n  File \"/Users/rashmisharma/anaconda2/envs/tensorflow1.0/lib/python3.5/site-packages/tensorflow/python/framework/op_def_library.py\", line 763, in apply_op\n    if isinstance(res, list) and not res and op_def.is_stateful:\n  File \"/Users/rashmisharma/anaconda2/envs/tensorflow1.0/lib/python3.5/site-packages/tensorflow/python/framework/ops.py\", line 2395, in create_op\n    # Actually obj is just the object it's referring to.\n  File \"/Users/rashmisharma/anaconda2/envs/tensorflow1.0/lib/python3.5/site-packages/tensorflow/python/framework/ops.py\", line 1264, in __init__\n    self._inputs[index].consumers().remove(self)\n\nFailedPreconditionError (see above for traceback): Attempting to use uninitialized value decoder/embedding_rnn_seq2seq/embedding_rnn_decoder/rnn_decoder/output_projection_wrapper/biases\n\t [[Node: decoder/embedding_rnn_seq2seq/embedding_rnn_decoder/rnn_decoder/output_projection_wrapper/biases/read = Identity[T=DT_FLOAT, _class=[\"loc:@decoder/embedding_rnn_seq2seq/embedding_rnn_decoder/rnn_decoder/output_projection_wrapper/biases\"], _device=\"/job:localhost/replica:0/task:0/cpu:0\"](decoder/embedding_rnn_seq2seq/embedding_rnn_decoder/rnn_decoder/output_projection_wrapper/biases)]]\n",
     "output_type": "error",
     "traceback": [
      "\u001b[0;31m---------------------------------------------------------------------------\u001b[0m",
      "\u001b[0;31mFailedPreconditionError\u001b[0m                   Traceback (most recent call last)",
      "\u001b[0;32m~/anaconda2/envs/tensorflow1.0/lib/python3.5/site-packages/tensorflow/python/client/session.py\u001b[0m in \u001b[0;36m_do_call\u001b[0;34m(self, fn, *args)\u001b[0m\n\u001b[1;32m   1021\u001b[0m       \u001b[0;32mreturn\u001b[0m \u001b[0mfn\u001b[0m\u001b[0;34m(\u001b[0m\u001b[0;34m*\u001b[0m\u001b[0margs\u001b[0m\u001b[0;34m)\u001b[0m\u001b[0;34m\u001b[0m\u001b[0m\n\u001b[0;32m-> 1022\u001b[0;31m     \u001b[0;32mexcept\u001b[0m \u001b[0merrors\u001b[0m\u001b[0;34m.\u001b[0m\u001b[0mOpError\u001b[0m \u001b[0;32mas\u001b[0m \u001b[0me\u001b[0m\u001b[0;34m:\u001b[0m\u001b[0;34m\u001b[0m\u001b[0m\n\u001b[0m\u001b[1;32m   1023\u001b[0m       \u001b[0mmessage\u001b[0m \u001b[0;34m=\u001b[0m \u001b[0mcompat\u001b[0m\u001b[0;34m.\u001b[0m\u001b[0mas_text\u001b[0m\u001b[0;34m(\u001b[0m\u001b[0me\u001b[0m\u001b[0;34m.\u001b[0m\u001b[0mmessage\u001b[0m\u001b[0;34m)\u001b[0m\u001b[0;34m\u001b[0m\u001b[0m\n",
      "\u001b[0;32m~/anaconda2/envs/tensorflow1.0/lib/python3.5/site-packages/tensorflow/python/client/session.py\u001b[0m in \u001b[0;36m_run_fn\u001b[0;34m(session, feed_dict, fetch_list, target_list, options, run_metadata)\u001b[0m\n\u001b[1;32m   1003\u001b[0m                                  status, run_metadata)\n\u001b[0;32m-> 1004\u001b[0;31m \u001b[0;34m\u001b[0m\u001b[0m\n\u001b[0m\u001b[1;32m   1005\u001b[0m     \u001b[0;32mdef\u001b[0m \u001b[0m_prun_fn\u001b[0m\u001b[0;34m(\u001b[0m\u001b[0msession\u001b[0m\u001b[0;34m,\u001b[0m \u001b[0mhandle\u001b[0m\u001b[0;34m,\u001b[0m \u001b[0mfeed_dict\u001b[0m\u001b[0;34m,\u001b[0m \u001b[0mfetch_list\u001b[0m\u001b[0;34m)\u001b[0m\u001b[0;34m:\u001b[0m\u001b[0;34m\u001b[0m\u001b[0m\n",
      "\u001b[0;32m~/anaconda2/envs/tensorflow1.0/lib/python3.5/contextlib.py\u001b[0m in \u001b[0;36m__exit__\u001b[0;34m(self, type, value, traceback)\u001b[0m\n\u001b[1;32m     65\u001b[0m             \u001b[0;32mtry\u001b[0m\u001b[0;34m:\u001b[0m\u001b[0;34m\u001b[0m\u001b[0m\n\u001b[0;32m---> 66\u001b[0;31m                 \u001b[0mnext\u001b[0m\u001b[0;34m(\u001b[0m\u001b[0mself\u001b[0m\u001b[0;34m.\u001b[0m\u001b[0mgen\u001b[0m\u001b[0;34m)\u001b[0m\u001b[0;34m\u001b[0m\u001b[0m\n\u001b[0m\u001b[1;32m     67\u001b[0m             \u001b[0;32mexcept\u001b[0m \u001b[0mStopIteration\u001b[0m\u001b[0;34m:\u001b[0m\u001b[0;34m\u001b[0m\u001b[0m\n",
      "\u001b[0;32m~/anaconda2/envs/tensorflow1.0/lib/python3.5/site-packages/tensorflow/python/framework/errors_impl.py\u001b[0m in \u001b[0;36mraise_exception_on_not_ok_status\u001b[0;34m()\u001b[0m\n\u001b[1;32m    468\u001b[0m           \u001b[0mcompat\u001b[0m\u001b[0;34m.\u001b[0m\u001b[0mas_text\u001b[0m\u001b[0;34m(\u001b[0m\u001b[0mpywrap_tensorflow\u001b[0m\u001b[0;34m.\u001b[0m\u001b[0mTF_Message\u001b[0m\u001b[0;34m(\u001b[0m\u001b[0mstatus\u001b[0m\u001b[0;34m)\u001b[0m\u001b[0;34m)\u001b[0m\u001b[0;34m,\u001b[0m\u001b[0;34m\u001b[0m\u001b[0m\n\u001b[0;32m--> 469\u001b[0;31m           pywrap_tensorflow.TF_GetCode(status))\n\u001b[0m\u001b[1;32m    470\u001b[0m   \u001b[0;32mfinally\u001b[0m\u001b[0;34m:\u001b[0m\u001b[0;34m\u001b[0m\u001b[0m\n",
      "\u001b[0;31mFailedPreconditionError\u001b[0m: Attempting to use uninitialized value decoder/embedding_rnn_seq2seq/embedding_rnn_decoder/rnn_decoder/output_projection_wrapper/biases\n\t [[Node: decoder/embedding_rnn_seq2seq/embedding_rnn_decoder/rnn_decoder/output_projection_wrapper/biases/read = Identity[T=DT_FLOAT, _class=[\"loc:@decoder/embedding_rnn_seq2seq/embedding_rnn_decoder/rnn_decoder/output_projection_wrapper/biases\"], _device=\"/job:localhost/replica:0/task:0/cpu:0\"](decoder/embedding_rnn_seq2seq/embedding_rnn_decoder/rnn_decoder/output_projection_wrapper/biases)]]",
      "\nDuring handling of the above exception, another exception occurred:\n",
      "\u001b[0;31mFailedPreconditionError\u001b[0m                   Traceback (most recent call last)",
      "\u001b[0;32m<ipython-input-152-a2324e7e7c76>\u001b[0m in \u001b[0;36m<module>\u001b[0;34m()\u001b[0m\n\u001b[0;32m----> 1\u001b[0;31m \u001b[0mchat\u001b[0m\u001b[0;34m(\u001b[0m\u001b[0mmodel\u001b[0m\u001b[0;34m,\u001b[0m\u001b[0msess\u001b[0m\u001b[0;34m,\u001b[0m\u001b[0;36m25\u001b[0m\u001b[0;34m,\u001b[0m\u001b[0;36m25\u001b[0m\u001b[0;34m)\u001b[0m\u001b[0;34m\u001b[0m\u001b[0m\n\u001b[0m",
      "\u001b[0;32m<ipython-input-151-d680e2d2f3fe>\u001b[0m in \u001b[0;36mchat\u001b[0;34m(model, sess, train_seq_len, y_seq_len)\u001b[0m\n\u001b[1;32m     34\u001b[0m     \u001b[0msess\u001b[0m \u001b[0;34m=\u001b[0m \u001b[0mmodel\u001b[0m\u001b[0;34m.\u001b[0m\u001b[0mrestore_last_session\u001b[0m\u001b[0;34m(\u001b[0m\u001b[0;34m)\u001b[0m\u001b[0;34m\u001b[0m\u001b[0m\n\u001b[1;32m     35\u001b[0m \u001b[0;34m\u001b[0m\u001b[0m\n\u001b[0;32m---> 36\u001b[0;31m     \u001b[0mpredict\u001b[0m \u001b[0;34m=\u001b[0m \u001b[0mmodel\u001b[0m\u001b[0;34m.\u001b[0m\u001b[0mpredict\u001b[0m\u001b[0;34m(\u001b[0m\u001b[0msess\u001b[0m\u001b[0;34m=\u001b[0m\u001b[0msess\u001b[0m\u001b[0;34m,\u001b[0m \u001b[0mX\u001b[0m\u001b[0;34m=\u001b[0m\u001b[0minput_array\u001b[0m\u001b[0;34m)\u001b[0m\u001b[0;34m\u001b[0m\u001b[0m\n\u001b[0m\u001b[1;32m     37\u001b[0m \u001b[0;34m\u001b[0m\u001b[0m\n\u001b[1;32m     38\u001b[0m     \u001b[0mprint\u001b[0m\u001b[0;34m(\u001b[0m\u001b[0mpredict\u001b[0m\u001b[0;34m)\u001b[0m\u001b[0;34m\u001b[0m\u001b[0m\n",
      "\u001b[0;32m~/Documents/GitHub/sqschatbot/practical_seq2seq-master/seq2seq_wrapper.py\u001b[0m in \u001b[0;36mpredict\u001b[0;34m(self, sess, X)\u001b[0m\n\u001b[1;32m    173\u001b[0m         \u001b[0mfeed_dict\u001b[0m \u001b[0;34m=\u001b[0m \u001b[0;34m{\u001b[0m\u001b[0mself\u001b[0m\u001b[0;34m.\u001b[0m\u001b[0menc_ip\u001b[0m\u001b[0;34m[\u001b[0m\u001b[0mt\u001b[0m\u001b[0;34m]\u001b[0m\u001b[0;34m:\u001b[0m \u001b[0mX\u001b[0m\u001b[0;34m[\u001b[0m\u001b[0mt\u001b[0m\u001b[0;34m]\u001b[0m \u001b[0;32mfor\u001b[0m \u001b[0mt\u001b[0m \u001b[0;32min\u001b[0m \u001b[0mrange\u001b[0m\u001b[0;34m(\u001b[0m\u001b[0mself\u001b[0m\u001b[0;34m.\u001b[0m\u001b[0mxseq_len\u001b[0m\u001b[0;34m)\u001b[0m\u001b[0;34m}\u001b[0m\u001b[0;34m\u001b[0m\u001b[0m\n\u001b[1;32m    174\u001b[0m         \u001b[0mfeed_dict\u001b[0m\u001b[0;34m[\u001b[0m\u001b[0mself\u001b[0m\u001b[0;34m.\u001b[0m\u001b[0mkeep_prob\u001b[0m\u001b[0;34m]\u001b[0m \u001b[0;34m=\u001b[0m \u001b[0;36m1.\u001b[0m\u001b[0;34m\u001b[0m\u001b[0m\n\u001b[0;32m--> 175\u001b[0;31m         \u001b[0mprint\u001b[0m\u001b[0;34m(\u001b[0m\u001b[0mfeed_dict\u001b[0m\u001b[0;34m)\u001b[0m\u001b[0;34m\u001b[0m\u001b[0m\n\u001b[0m\u001b[1;32m    176\u001b[0m         \u001b[0mdec_op_v\u001b[0m \u001b[0;34m=\u001b[0m \u001b[0msess\u001b[0m\u001b[0;34m.\u001b[0m\u001b[0mrun\u001b[0m\u001b[0;34m(\u001b[0m\u001b[0mself\u001b[0m\u001b[0;34m.\u001b[0m\u001b[0mdecode_outputs_test\u001b[0m\u001b[0;34m,\u001b[0m \u001b[0mfeed_dict\u001b[0m\u001b[0;34m)\u001b[0m\u001b[0;34m\u001b[0m\u001b[0m\n\u001b[1;32m    177\u001b[0m         \u001b[0;31m# dec_op_v is a list; also need to transpose 0,1 indices\u001b[0m\u001b[0;34m\u001b[0m\u001b[0;34m\u001b[0m\u001b[0m\n",
      "\u001b[0;32m~/anaconda2/envs/tensorflow1.0/lib/python3.5/site-packages/tensorflow/python/client/session.py\u001b[0m in \u001b[0;36mrun\u001b[0;34m(self, fetches, feed_dict, options, run_metadata)\u001b[0m\n\u001b[1;32m    765\u001b[0m       result = self._run(None, fetches, feed_dict, options_ptr,\n\u001b[1;32m    766\u001b[0m                          run_metadata_ptr)\n\u001b[0;32m--> 767\u001b[0;31m       \u001b[0;32mif\u001b[0m \u001b[0mrun_metadata\u001b[0m\u001b[0;34m:\u001b[0m\u001b[0;34m\u001b[0m\u001b[0m\n\u001b[0m\u001b[1;32m    768\u001b[0m         \u001b[0mproto_data\u001b[0m \u001b[0;34m=\u001b[0m \u001b[0mtf_session\u001b[0m\u001b[0;34m.\u001b[0m\u001b[0mTF_GetBuffer\u001b[0m\u001b[0;34m(\u001b[0m\u001b[0mrun_metadata_ptr\u001b[0m\u001b[0;34m)\u001b[0m\u001b[0;34m\u001b[0m\u001b[0m\n\u001b[1;32m    769\u001b[0m         \u001b[0mrun_metadata\u001b[0m\u001b[0;34m.\u001b[0m\u001b[0mParseFromString\u001b[0m\u001b[0;34m(\u001b[0m\u001b[0mcompat\u001b[0m\u001b[0;34m.\u001b[0m\u001b[0mas_bytes\u001b[0m\u001b[0;34m(\u001b[0m\u001b[0mproto_data\u001b[0m\u001b[0;34m)\u001b[0m\u001b[0;34m)\u001b[0m\u001b[0;34m\u001b[0m\u001b[0m\n",
      "\u001b[0;32m~/anaconda2/envs/tensorflow1.0/lib/python3.5/site-packages/tensorflow/python/client/session.py\u001b[0m in \u001b[0;36m_run\u001b[0;34m(self, handle, fetches, feed_dict, options, run_metadata)\u001b[0m\n\u001b[1;32m    963\u001b[0m       results = self._do_run(handle, final_targets, final_fetches,\n\u001b[1;32m    964\u001b[0m                              feed_dict_string, options, run_metadata)\n\u001b[0;32m--> 965\u001b[0;31m     \u001b[0;32melse\u001b[0m\u001b[0;34m:\u001b[0m\u001b[0;34m\u001b[0m\u001b[0m\n\u001b[0m\u001b[1;32m    966\u001b[0m       \u001b[0mresults\u001b[0m \u001b[0;34m=\u001b[0m \u001b[0;34m[\u001b[0m\u001b[0;34m]\u001b[0m\u001b[0;34m\u001b[0m\u001b[0m\n\u001b[1;32m    967\u001b[0m     \u001b[0;32mreturn\u001b[0m \u001b[0mfetch_handler\u001b[0m\u001b[0;34m.\u001b[0m\u001b[0mbuild_results\u001b[0m\u001b[0;34m(\u001b[0m\u001b[0mself\u001b[0m\u001b[0;34m,\u001b[0m \u001b[0mresults\u001b[0m\u001b[0;34m)\u001b[0m\u001b[0;34m\u001b[0m\u001b[0m\n",
      "\u001b[0;32m~/anaconda2/envs/tensorflow1.0/lib/python3.5/site-packages/tensorflow/python/client/session.py\u001b[0m in \u001b[0;36m_do_run\u001b[0;34m(self, handle, target_list, fetch_list, feed_dict, options, run_metadata)\u001b[0m\n\u001b[1;32m   1013\u001b[0m       return self._do_call(_run_fn, self._session, feed_dict, fetch_list,\n\u001b[1;32m   1014\u001b[0m                            target_list, options, run_metadata)\n\u001b[0;32m-> 1015\u001b[0;31m     \u001b[0;32melse\u001b[0m\u001b[0;34m:\u001b[0m\u001b[0;34m\u001b[0m\u001b[0m\n\u001b[0m\u001b[1;32m   1016\u001b[0m       return self._do_call(_prun_fn, self._session, handle, feed_dict,\n\u001b[1;32m   1017\u001b[0m                            fetch_list)\n",
      "\u001b[0;32m~/anaconda2/envs/tensorflow1.0/lib/python3.5/site-packages/tensorflow/python/client/session.py\u001b[0m in \u001b[0;36m_do_call\u001b[0;34m(self, fn, *args)\u001b[0m\n\u001b[1;32m   1033\u001b[0m           \u001b[0;32mpass\u001b[0m\u001b[0;34m\u001b[0m\u001b[0m\n\u001b[1;32m   1034\u001b[0m       \u001b[0;32mraise\u001b[0m \u001b[0mtype\u001b[0m\u001b[0;34m(\u001b[0m\u001b[0me\u001b[0m\u001b[0;34m)\u001b[0m\u001b[0;34m(\u001b[0m\u001b[0mnode_def\u001b[0m\u001b[0;34m,\u001b[0m \u001b[0mop\u001b[0m\u001b[0;34m,\u001b[0m \u001b[0mmessage\u001b[0m\u001b[0;34m)\u001b[0m\u001b[0;34m\u001b[0m\u001b[0m\n\u001b[0;32m-> 1035\u001b[0;31m \u001b[0;34m\u001b[0m\u001b[0m\n\u001b[0m\u001b[1;32m   1036\u001b[0m   \u001b[0;32mdef\u001b[0m \u001b[0m_extend_graph\u001b[0m\u001b[0;34m(\u001b[0m\u001b[0mself\u001b[0m\u001b[0;34m)\u001b[0m\u001b[0;34m:\u001b[0m\u001b[0;34m\u001b[0m\u001b[0m\n\u001b[1;32m   1037\u001b[0m     \u001b[0;31m# Ensure any changes to the graph are reflected in the runtime.\u001b[0m\u001b[0;34m\u001b[0m\u001b[0;34m\u001b[0m\u001b[0m\n",
      "\u001b[0;31mFailedPreconditionError\u001b[0m: Attempting to use uninitialized value decoder/embedding_rnn_seq2seq/embedding_rnn_decoder/rnn_decoder/output_projection_wrapper/biases\n\t [[Node: decoder/embedding_rnn_seq2seq/embedding_rnn_decoder/rnn_decoder/output_projection_wrapper/biases/read = Identity[T=DT_FLOAT, _class=[\"loc:@decoder/embedding_rnn_seq2seq/embedding_rnn_decoder/rnn_decoder/output_projection_wrapper/biases\"], _device=\"/job:localhost/replica:0/task:0/cpu:0\"](decoder/embedding_rnn_seq2seq/embedding_rnn_decoder/rnn_decoder/output_projection_wrapper/biases)]]\n\nCaused by op 'decoder/embedding_rnn_seq2seq/embedding_rnn_decoder/rnn_decoder/output_projection_wrapper/biases/read', defined at:\n  File \"/Users/rashmisharma/anaconda2/envs/tensorflow1.0/lib/python3.5/runpy.py\", line 193, in _run_module_as_main\n    \"__main__\", mod_spec)\n  File \"/Users/rashmisharma/anaconda2/envs/tensorflow1.0/lib/python3.5/runpy.py\", line 85, in _run_code\n    exec(code, run_globals)\n  File \"/Users/rashmisharma/anaconda2/envs/tensorflow1.0/lib/python3.5/site-packages/ipykernel_launcher.py\", line 16, in <module>\n    app.launch_new_instance()\n  File \"/Users/rashmisharma/anaconda2/envs/tensorflow1.0/lib/python3.5/site-packages/traitlets/config/application.py\", line 658, in launch_instance\n    app.start()\n  File \"/Users/rashmisharma/anaconda2/envs/tensorflow1.0/lib/python3.5/site-packages/ipykernel/kernelapp.py\", line 477, in start\n    ioloop.IOLoop.instance().start()\n  File \"/Users/rashmisharma/anaconda2/envs/tensorflow1.0/lib/python3.5/site-packages/zmq/eventloop/ioloop.py\", line 177, in start\n    super(ZMQIOLoop, self).start()\n  File \"/Users/rashmisharma/anaconda2/envs/tensorflow1.0/lib/python3.5/site-packages/tornado/ioloop.py\", line 888, in start\n    handler_func(fd_obj, events)\n  File \"/Users/rashmisharma/anaconda2/envs/tensorflow1.0/lib/python3.5/site-packages/tornado/stack_context.py\", line 277, in null_wrapper\n    return fn(*args, **kwargs)\n  File \"/Users/rashmisharma/anaconda2/envs/tensorflow1.0/lib/python3.5/site-packages/zmq/eventloop/zmqstream.py\", line 440, in _handle_events\n    self._handle_recv()\n  File \"/Users/rashmisharma/anaconda2/envs/tensorflow1.0/lib/python3.5/site-packages/zmq/eventloop/zmqstream.py\", line 472, in _handle_recv\n    self._run_callback(callback, msg)\n  File \"/Users/rashmisharma/anaconda2/envs/tensorflow1.0/lib/python3.5/site-packages/zmq/eventloop/zmqstream.py\", line 414, in _run_callback\n    callback(*args, **kwargs)\n  File \"/Users/rashmisharma/anaconda2/envs/tensorflow1.0/lib/python3.5/site-packages/tornado/stack_context.py\", line 277, in null_wrapper\n    return fn(*args, **kwargs)\n  File \"/Users/rashmisharma/anaconda2/envs/tensorflow1.0/lib/python3.5/site-packages/ipykernel/kernelbase.py\", line 283, in dispatcher\n    return self.dispatch_shell(stream, msg)\n  File \"/Users/rashmisharma/anaconda2/envs/tensorflow1.0/lib/python3.5/site-packages/ipykernel/kernelbase.py\", line 235, in dispatch_shell\n    handler(stream, idents, msg)\n  File \"/Users/rashmisharma/anaconda2/envs/tensorflow1.0/lib/python3.5/site-packages/ipykernel/kernelbase.py\", line 399, in execute_request\n    user_expressions, allow_stdin)\n  File \"/Users/rashmisharma/anaconda2/envs/tensorflow1.0/lib/python3.5/site-packages/ipykernel/ipkernel.py\", line 196, in do_execute\n    res = shell.run_cell(code, store_history=store_history, silent=silent)\n  File \"/Users/rashmisharma/anaconda2/envs/tensorflow1.0/lib/python3.5/site-packages/ipykernel/zmqshell.py\", line 533, in run_cell\n    return super(ZMQInteractiveShell, self).run_cell(*args, **kwargs)\n  File \"/Users/rashmisharma/anaconda2/envs/tensorflow1.0/lib/python3.5/site-packages/IPython/core/interactiveshell.py\", line 2728, in run_cell\n    interactivity=interactivity, compiler=compiler, result=result)\n  File \"/Users/rashmisharma/anaconda2/envs/tensorflow1.0/lib/python3.5/site-packages/IPython/core/interactiveshell.py\", line 2856, in run_ast_nodes\n    if self.run_code(code, result):\n  File \"/Users/rashmisharma/anaconda2/envs/tensorflow1.0/lib/python3.5/site-packages/IPython/core/interactiveshell.py\", line 2910, in run_code\n    exec(code_obj, self.user_global_ns, self.user_ns)\n  File \"<ipython-input-152-a2324e7e7c76>\", line 1, in <module>\n    chat(model,sess,25,25)\n  File \"<ipython-input-151-d680e2d2f3fe>\", line 32, in chat\n    num_layers=3\n  File \"/Users/rashmisharma/Documents/GitHub/sqschatbot/practical_seq2seq-master/seq2seq_wrapper.py\", line 79, in __init__\n    __graph__()\n  File \"/Users/rashmisharma/Documents/GitHub/sqschatbot/practical_seq2seq-master/seq2seq_wrapper.py\", line 58, in __graph__\n    xvocab_size, yvocab_size, emb_dim)\n  File \"/Users/rashmisharma/anaconda2/envs/tensorflow1.0/lib/python3.5/site-packages/tensorflow/contrib/legacy_seq2seq/python/ops/seq2seq.py\", line 374, in embedding_rnn_seq2seq\n  File \"/Users/rashmisharma/anaconda2/envs/tensorflow1.0/lib/python3.5/site-packages/tensorflow/contrib/legacy_seq2seq/python/ops/seq2seq.py\", line 295, in embedding_rnn_decoder\n  File \"/Users/rashmisharma/anaconda2/envs/tensorflow1.0/lib/python3.5/site-packages/tensorflow/contrib/legacy_seq2seq/python/ops/seq2seq.py\", line 150, in rnn_decoder\n  File \"/Users/rashmisharma/anaconda2/envs/tensorflow1.0/lib/python3.5/site-packages/tensorflow/contrib/rnn/python/ops/core_rnn_cell_impl.py\", line 429, in __call__\n  File \"/Users/rashmisharma/anaconda2/envs/tensorflow1.0/lib/python3.5/site-packages/tensorflow/contrib/rnn/python/ops/core_rnn_cell_impl.py\", line 759, in _linear\n  File \"/Users/rashmisharma/anaconda2/envs/tensorflow1.0/lib/python3.5/site-packages/tensorflow/python/ops/variable_scope.py\", line 988, in get_variable\n    device.  If not `None`, caches on another device.  Typical use is to\n  File \"/Users/rashmisharma/anaconda2/envs/tensorflow1.0/lib/python3.5/site-packages/tensorflow/python/ops/variable_scope.py\", line 890, in get_variable\n    full_name_list = []\n  File \"/Users/rashmisharma/anaconda2/envs/tensorflow1.0/lib/python3.5/site-packages/tensorflow/python/ops/variable_scope.py\", line 348, in get_variable\n    def _get_partitioned_variable(\n  File \"/Users/rashmisharma/anaconda2/envs/tensorflow1.0/lib/python3.5/site-packages/tensorflow/python/ops/variable_scope.py\", line 333, in _true_getter\n    if custom_getter is not None:\n  File \"/Users/rashmisharma/anaconda2/envs/tensorflow1.0/lib/python3.5/site-packages/tensorflow/python/ops/variable_scope.py\", line 684, in _get_single_variable\n    with ops.colocate_with(v.op):\n  File \"/Users/rashmisharma/anaconda2/envs/tensorflow1.0/lib/python3.5/site-packages/tensorflow/python/ops/variables.py\", line 226, in __init__\n    def __str__(self):\n  File \"/Users/rashmisharma/anaconda2/envs/tensorflow1.0/lib/python3.5/site-packages/tensorflow/python/ops/variables.py\", line 344, in _init_from_args\n  File \"/Users/rashmisharma/anaconda2/envs/tensorflow1.0/lib/python3.5/site-packages/tensorflow/python/ops/gen_array_ops.py\", line 1490, in identity\n  File \"/Users/rashmisharma/anaconda2/envs/tensorflow1.0/lib/python3.5/site-packages/tensorflow/python/framework/op_def_library.py\", line 763, in apply_op\n    if isinstance(res, list) and not res and op_def.is_stateful:\n  File \"/Users/rashmisharma/anaconda2/envs/tensorflow1.0/lib/python3.5/site-packages/tensorflow/python/framework/ops.py\", line 2395, in create_op\n    # Actually obj is just the object it's referring to.\n  File \"/Users/rashmisharma/anaconda2/envs/tensorflow1.0/lib/python3.5/site-packages/tensorflow/python/framework/ops.py\", line 1264, in __init__\n    self._inputs[index].consumers().remove(self)\n\nFailedPreconditionError (see above for traceback): Attempting to use uninitialized value decoder/embedding_rnn_seq2seq/embedding_rnn_decoder/rnn_decoder/output_projection_wrapper/biases\n\t [[Node: decoder/embedding_rnn_seq2seq/embedding_rnn_decoder/rnn_decoder/output_projection_wrapper/biases/read = Identity[T=DT_FLOAT, _class=[\"loc:@decoder/embedding_rnn_seq2seq/embedding_rnn_decoder/rnn_decoder/output_projection_wrapper/biases\"], _device=\"/job:localhost/replica:0/task:0/cpu:0\"](decoder/embedding_rnn_seq2seq/embedding_rnn_decoder/rnn_decoder/output_projection_wrapper/biases)]]\n"
     ]
    }
   ],
   "source": [
    "chat(model,sess,25,25)"
   ]
  },
  {
   "cell_type": "code",
   "execution_count": null,
   "metadata": {},
   "outputs": [],
   "source": [
    " "
   ]
  }
 ],
 "metadata": {
  "kernelspec": {
   "display_name": "Python 3",
   "language": "python",
   "name": "python3"
  },
  "language_info": {
   "codemirror_mode": {
    "name": "ipython",
    "version": 3
   },
   "file_extension": ".py",
   "mimetype": "text/x-python",
   "name": "python",
   "nbconvert_exporter": "python",
   "pygments_lexer": "ipython3",
   "version": "3.5.4"
  }
 },
 "nbformat": 4,
 "nbformat_minor": 1
}
